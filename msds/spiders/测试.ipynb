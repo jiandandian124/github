{
 "cells": [
  {
   "cell_type": "code",
   "execution_count": 42,
   "source": [
    "from pymongo import MongoClient\r\n",
    "conn = MongoClient('localhost',maxPoolSize=None)\r\n",
    "my_db = conn['msds']\r\n",
    "my_aa = my_db['urls']\r\n",
    "\r\n",
    "for i in range(699, 701):\r\n",
    "    numb = i\r\n",
    "    myquery = { \"id\": numb }\r\n",
    "    newvalues = { \"$set\": { \"state\": \"1\" } }\r\n",
    "    my_aa.update_one(myquery, newvalues)\r\n",
    "\r\n",
    "jilu = my_aa.find({'id' : numb})\r\n",
    "for x in jilu:\r\n",
    "    print(x)\r\n",
    "a = x['url']\r\n",
    "print(a)\r\n",
    "\r\n",
    "# url = jilu.url\r\n"
   ],
   "outputs": [
    {
     "output_type": "stream",
     "name": "stdout",
     "text": [
      "{'_id': ObjectId('6119d476ec05df45378ec138'), 'id': 784, 'url': 'https://china.guidechem.com/datacenter/msds/c/784.html', 'state': '1'}\n",
      "https://china.guidechem.com/datacenter/msds/c/784.html\n"
     ]
    }
   ],
   "metadata": {}
  },
  {
   "cell_type": "code",
   "execution_count": 37,
   "source": [
    "from pymongo import MongoClient\r\n",
    "\r\n",
    "def insert_s(numb):\r\n",
    "        #连接数据库\r\n",
    "        conn = MongoClient('localhost',maxPoolSize=None)\r\n",
    "        my_db = conn['msds']\r\n",
    "        my_aa = my_db['urls']\r\n",
    "        jilu = my_aa.find({'id' : numb})\r\n",
    "        for x in jilu:\r\n",
    "            a = x['state']\r\n",
    "            if a == '1' :\r\n",
    "                b = x['url']\r\n",
    "                myquery = { \"id\": numb }\r\n",
    "                newvalues = { \"$set\": { \"state\": \"1\" } }\r\n",
    "                my_aa.update_one(myquery, newvalues)\r\n",
    "                return b\r\n",
    "            else:\r\n",
    "                return 0\r\n",
    "\r\n",
    "numb = 701\r\n",
    "url = insert_s(numb)\r\n",
    "print(url)"
   ],
   "outputs": [
    {
     "output_type": "stream",
     "name": "stdout",
     "text": [
      "https://china.guidechem.com/datacenter/msds/c/701.html\n"
     ]
    }
   ],
   "metadata": {}
  },
  {
   "cell_type": "markdown",
   "source": [
    "## 测试pandas"
   ],
   "metadata": {}
  },
  {
   "cell_type": "code",
   "execution_count": null,
   "source": [
    "import pandas as pd\r\n",
    "\r\n",
    "tb = pd.read_html(url)[3]"
   ],
   "outputs": [],
   "metadata": {}
  },
  {
   "cell_type": "markdown",
   "source": [],
   "metadata": {}
  }
 ],
 "metadata": {
  "orig_nbformat": 4,
  "language_info": {
   "name": "python",
   "version": "3.8.5",
   "mimetype": "text/x-python",
   "codemirror_mode": {
    "name": "ipython",
    "version": 3
   },
   "pygments_lexer": "ipython3",
   "nbconvert_exporter": "python",
   "file_extension": ".py"
  },
  "kernelspec": {
   "name": "python3",
   "display_name": "Python 3.8.5 64-bit ('base': conda)"
  },
  "interpreter": {
   "hash": "30b550f2ce55c8755c493c2eade43b2d4011d2e65c16d846db9a0d98c6e5ab89"
  }
 },
 "nbformat": 4,
 "nbformat_minor": 2
}